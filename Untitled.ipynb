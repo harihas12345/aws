{
 "cells": [
  {
   "cell_type": "code",
   "execution_count": null,
   "id": "ece49d93-fdbf-4ad9-81f7-cd05a66026cf",
   "metadata": {},
   "outputs": [],
   "source": [
    "import numpy as np\n",
    "import sounddevice as sd\n",
    "import scipy.io.wavfile as wav\n",
    "sd.default.device = 3  \n",
    "import numpy as np\n",
    "import wave\n",
    "import whisper\n",
    "DURATION = 5400  \n",
    "SAMPLE_RATE = 44100  # CD-quality\n",
    "OUTPUT_FILE = \"recorded_audio.wav\"\n",
    "def record_audio(duration, sample_rate, output_file):\n",
    "    print(\"Recording started.\")\n",
    "    audio_data = sd.rec(int(duration * sample_rate), samplerate=sample_rate, channels=2, dtype=np.int16)\n",
    "    sd.wait()\n",
    "    print(\"Recording\")\n",
    "    # Save the recording as a WAV file\n",
    "    with wave.open(output_file, \"wb\") as wf:\n",
    "        wf.setnchannels(2)\n",
    "        wf.setsampwidth(2)  #16-bit PCM\n",
    "        wf.setframerate(sample_rate)\n",
    "        wf.writeframes(audio_data.tobytes())\n",
    "    print(f\"Saved as {output_file}\")\n",
    "record_audio(DURATION, SAMPLE_RATE, OUTPUT_FILE)"
   ]
  },
  {
   "cell_type": "code",
   "execution_count": null,
   "id": "f5e442a6-0d2c-40b9-908b-f10eaa8b8e94",
   "metadata": {},
   "outputs": [],
   "source": []
  },
  {
   "cell_type": "code",
   "execution_count": null,
   "id": "1f2a8508-c82d-412d-a476-74d9ea816312",
   "metadata": {},
   "outputs": [],
   "source": [
    "import os\n",
    "file_path = \"recorded_audio.wav\"\n",
    "print(f\"File exists: {os.path.exists(file_path)}\")\n",
    "print(f\"Absolute path: {os.path.abspath(file_path)}\")\n"
   ]
  },
  {
   "cell_type": "code",
   "execution_count": null,
   "id": "d98e335d-aa98-40ac-9d72-2f1038e45378",
   "metadata": {},
   "outputs": [],
   "source": [
    "import os\n",
    "file_path = r\"C:\\Users\\haaneesh\\Desktop\\Summarization project\\recorded_audio.wav\"\n",
    "if os.path.exists(file_path):\n",
    "    print(\"File exists\")\n",
    "else:\n",
    "    print(\"File NOT found! Check the path.\")\n",
    "import whisper\n",
    "model = whisper.load_model(\"base\")\n",
    "result = model.transcribe(\"C:/Users/haaneesh/Desktop/Summarization project/recorded_audio.wav\")\n",
    "print(result[\"text\"])\n"
   ]
  },
  {
   "cell_type": "code",
   "execution_count": null,
   "id": "c63f1345-a699-451f-abea-2ca17ac1c8aa",
   "metadata": {},
   "outputs": [],
   "source": []
  }
 ],
 "metadata": {
  "kernelspec": {
   "display_name": "Python 3 (ipykernel)",
   "language": "python",
   "name": "python3"
  },
  "language_info": {
   "codemirror_mode": {
    "name": "ipython",
    "version": 3
   },
   "file_extension": ".py",
   "mimetype": "text/x-python",
   "name": "python",
   "nbconvert_exporter": "python",
   "pygments_lexer": "ipython3",
   "version": "3.9.0"
  }
 },
 "nbformat": 4,
 "nbformat_minor": 5
}
